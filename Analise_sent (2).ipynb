{
  "nbformat": 4,
  "nbformat_minor": 0,
  "metadata": {
    "colab": {
      "name": "Analise_sent.ipynb",
      "provenance": [],
      "collapsed_sections": []
    },
    "kernelspec": {
      "name": "python3",
      "display_name": "Python 3"
    }
  },
  "cells": [
    {
      "cell_type": "code",
      "metadata": {
        "id": "gq98Hyt6G2GX",
        "colab_type": "code",
        "colab": {
          "base_uri": "https://localhost:8080/",
          "height": 292
        },
        "outputId": "4c05656d-d47d-4b8f-bbb5-0e15c3b12dea"
      },
      "source": [
        "!pip install GoogleNews\n",
        "!pip install --upgrade GoogleNews\n",
        "!pip install dateparser\n",
        "# NLTK VADER for sentiment analysis\n",
        "from nltk.sentiment.vader import SentimentIntensityAnalyzer\n",
        "import nltk\n",
        "nltk.downloader.download('vader_lexicon')"
      ],
      "execution_count": 1,
      "outputs": [
        {
          "output_type": "stream",
          "text": [
            "Requirement already satisfied: GoogleNews in /usr/local/lib/python3.6/dist-packages (1.4.0)\n",
            "Requirement already satisfied: beautifulsoup4 in /usr/local/lib/python3.6/dist-packages (from GoogleNews) (4.6.3)\n",
            "Requirement already up-to-date: GoogleNews in /usr/local/lib/python3.6/dist-packages (1.4.0)\n",
            "Requirement already satisfied, skipping upgrade: beautifulsoup4 in /usr/local/lib/python3.6/dist-packages (from GoogleNews) (4.6.3)\n",
            "Requirement already satisfied: dateparser in /usr/local/lib/python3.6/dist-packages (0.7.6)\n",
            "Requirement already satisfied: pytz in /usr/local/lib/python3.6/dist-packages (from dateparser) (2018.9)\n",
            "Requirement already satisfied: regex!=2019.02.19 in /usr/local/lib/python3.6/dist-packages (from dateparser) (2019.12.20)\n",
            "Requirement already satisfied: python-dateutil in /usr/local/lib/python3.6/dist-packages (from dateparser) (2.8.1)\n",
            "Requirement already satisfied: tzlocal in /usr/local/lib/python3.6/dist-packages (from dateparser) (1.5.1)\n",
            "Requirement already satisfied: six>=1.5 in /usr/local/lib/python3.6/dist-packages (from python-dateutil->dateparser) (1.15.0)\n",
            "[nltk_data] Downloading package vader_lexicon to /root/nltk_data...\n",
            "[nltk_data]   Package vader_lexicon is already up-to-date!\n"
          ],
          "name": "stdout"
        },
        {
          "output_type": "stream",
          "text": [
            "/usr/local/lib/python3.6/dist-packages/nltk/twitter/__init__.py:20: UserWarning: The twython library has not been installed. Some functionality from the twitter package will not be available.\n",
            "  warnings.warn(\"The twython library has not been installed. \"\n"
          ],
          "name": "stderr"
        },
        {
          "output_type": "execute_result",
          "data": {
            "text/plain": [
              "True"
            ]
          },
          "metadata": {
            "tags": []
          },
          "execution_count": 1
        }
      ]
    },
    {
      "cell_type": "code",
      "metadata": {
        "id": "X-skbSING53n",
        "colab_type": "code",
        "colab": {}
      },
      "source": [
        "import datetime as dt\n",
        "import pandas as pd\n",
        "import matplotlib.pyplot as plt\n",
        "from GoogleNews import GoogleNews\n",
        "import re\n",
        "from datetime import datetime, timedelta\n",
        "import numpy as np"
      ],
      "execution_count": 2,
      "outputs": []
    },
    {
      "cell_type": "code",
      "metadata": {
        "id": "ABNRfJYnG-FZ",
        "colab_type": "code",
        "colab": {}
      },
      "source": [
        "def ne(lan,inicio,pesquisa):\n",
        "    googlenews = GoogleNews()\n",
        "    GoogleNews(lan)\n",
        "    GoogleNews(start=inicio)\n",
        "    googlenews.search(pesquisa)\n",
        "    googlenews.getpage(1)\n",
        "    return(googlenews.result())\n",
        "    googlenews.clear()"
      ],
      "execution_count": 23,
      "outputs": []
    },
    {
      "cell_type": "code",
      "metadata": {
        "id": "G8ozl7as3i1H",
        "colab_type": "code",
        "colab": {}
      },
      "source": [
        "#Escreva aqui\n",
        "Pesquisa = 'USA'\n",
        "Data='06/08/2020'\n",
        "Idioma='en'"
      ],
      "execution_count": 84,
      "outputs": []
    },
    {
      "cell_type": "code",
      "metadata": {
        "id": "TDg4MtpP498P",
        "colab_type": "code",
        "colab": {}
      },
      "source": [
        "dados=ne(Idioma,Data,Pesquisa)"
      ],
      "execution_count": 85,
      "outputs": []
    },
    {
      "cell_type": "code",
      "metadata": {
        "id": "409Xn1umHFCQ",
        "colab_type": "code",
        "colab": {
          "base_uri": "https://localhost:8080/",
          "height": 404
        },
        "outputId": "5c4d8bec-67bb-4689-e5dd-2bfdaa7bd82e"
      },
      "source": [
        "dados=pd.DataFrame(dados)\n",
        "temp = dados['date']\n",
        "tit =  dados['title']\n",
        "info = dados['desc']\n",
        "t=temp.tolist()\n",
        "\n",
        "def convert_datetime(datetime_ago):\n",
        "\n",
        "    matches = re.search(r\"(\\d+ weeks?,? )?(\\d+ days?,? )?(\\d+ hours?,? )?(\\d+ mins?,? )?(\\d+ secs? )?ago\", datetime_ago)\n",
        "    if not matches:\n",
        "        return None\n",
        "    date_pieces = {'week': 0, 'day': 0, 'hour': 0, 'min': 0, 'sec': 0}\n",
        "    for i in range(1, len(date_pieces) + 1):\n",
        "        if matches.group(i):\n",
        "            value_unit = matches.group(i).rstrip(', ')\n",
        "            if len(value_unit.split()) == 2:\n",
        "                value, unit = value_unit.split()\n",
        "                date_pieces[unit.rstrip('s')] = int(value)\n",
        "\n",
        "    d = datetime.today() - timedelta(\n",
        "        weeks=date_pieces['week'],\n",
        "        days=date_pieces['day'],\n",
        "        hours=date_pieces['hour'],\n",
        "        minutes=date_pieces['min'],\n",
        "        seconds=date_pieces['sec']\n",
        "    )\n",
        "    return d\n",
        "\n",
        "time = t\n",
        "temp=[]\n",
        "i = 0\n",
        "while i < len(time):\n",
        "    temp.append(convert_datetime(time[i]))\n",
        "    i = i + 1\n",
        "\n",
        "temp=pd.DataFrame(temp)\n",
        "temp[0]=pd.to_datetime(temp[0])\n",
        "temp_ord = temp.sort_values(by=0)\n",
        "\n",
        "data = pd.concat((temp_ord,tit,info), axis=1)\n",
        "data.sort_values(by=0)\n",
        "\n",
        "vader = SentimentIntensityAnalyzer()\n",
        "scores = data['desc'].apply(vader.polarity_scores).tolist()\n",
        "sco=pd.DataFrame(scores)\n",
        "neg=sco['neg'] \n",
        "neu=sco['neu']\n",
        "pos=sco['pos']\n",
        "result=sco['compound']\n",
        "dados = pd.concat((temp,tit,info,neg,neu,pos,result), axis=1)\n",
        "dados_org=dados.sort_values(by=0)\n",
        " \n",
        "dados_org.to_csv(r'Dollar_sent.csv', index = False)\n",
        "god=dados_org['compound'].values>0\n",
        "bad=dados_org['compound'].values<0\n",
        "x=dados_org['compound']\n",
        "\n",
        "t=dados_org[0].tolist()\n",
        "plt.rcParams['figure.figsize'] = [10, 6]\n",
        "plt.bar(t,god,color='blue')\n",
        "\n",
        "plt.bar(t,bad,color='red')\n",
        "\n",
        "plt.title('Análise de Sentimento')\n",
        "plt.xlabel('Intensidade do sentimento')\n",
        "plt.ylabel('Análise de sentimento diário')\n",
        "plt.grid()"
      ],
      "execution_count": 89,
      "outputs": [
        {
          "output_type": "display_data",
          "data": {
            "image/png": "[encoded data removed]",
            "text/plain": [
              "<Figure size 720x432 with 1 Axes>"
            ]
          },
          "metadata": {
            "tags": [],
            "needs_background": "light"
          }
        }
      ]
    },
    {
      "cell_type": "code",
      "metadata": {
        "id": "O_0fh_Is37mw",
        "colab_type": "code",
        "colab": {}
      },
      "source": [
        ""
      ],
      "execution_count": 89,
      "outputs": []
    }
  ]
}